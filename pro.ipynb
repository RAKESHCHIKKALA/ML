{
 "cells": [
  {
   "cell_type": "code",
   "execution_count": 3,
   "id": "14cc8f3d-87b0-4672-9f28-2457e9050c07",
   "metadata": {},
   "outputs": [],
   "source": [
    "import numpy as np\n",
    "import pandas as pd"
   ]
  },
  {
   "cell_type": "code",
   "execution_count": null,
   "id": "33a2ad86-11cc-4841-a7cd-b6939e51d1fe",
   "metadata": {},
   "outputs": [],
   "source": [
    "data=pdf.read_csv(\""
   ]
  },
  {
   "cell_type": "code",
   "execution_count": 2,
   "id": "008084b5-ebbd-4932-abf8-4b789b86a298",
   "metadata": {},
   "outputs": [
    {
     "ename": "SyntaxError",
     "evalue": "unterminated string literal (detected at line 3) (2702260697.py, line 3)",
     "output_type": "error",
     "traceback": [
      "\u001b[1;36m  Cell \u001b[1;32mIn[2], line 3\u001b[1;36m\u001b[0m\n\u001b[1;33m    plt.xlabel('engine power\")\u001b[0m\n\u001b[1;37m               ^\u001b[0m\n\u001b[1;31mSyntaxError\u001b[0m\u001b[1;31m:\u001b[0m unterminated string literal (detected at line 3)\n"
     ]
    }
   ],
   "source": [
    "import matplotlib.pyplot as plt\n",
    "plt.hist(dat['engine_power'])\n",
    "plt.xlabel('engine power\")\n",
    "plt.ylabel(\"\")"
   ]
  },
  {
   "cell_type": "code",
   "execution_count": null,
   "id": "396aef2b-a30a-4e6f-991d-df3bb9658422",
   "metadata": {},
   "outputs": [],
   "source": [
    "plt.hist(dta[\"age_in_days'])\n",
    "         "
   ]
  },
  {
   "cell_type": "code",
   "execution_count": 1,
   "id": "303288ad-7eb9-46b7-ae8e-6981b16de97a",
   "metadata": {},
   "outputs": [
    {
     "ename": "NameError",
     "evalue": "name 'plt' is not defined",
     "output_type": "error",
     "traceback": [
      "\u001b[1;31m---------------------------------------------------------------------------\u001b[0m",
      "\u001b[1;31mNameError\u001b[0m                                 Traceback (most recent call last)",
      "Cell \u001b[1;32mIn[1], line 1\u001b[0m\n\u001b[1;32m----> 1\u001b[0m \u001b[43mplt\u001b[49m\u001b[38;5;241m.\u001b[39mscatter(dat[\u001b[38;5;124m\"\u001b[39m\u001b[38;5;124mkm\u001b[39m\u001b[38;5;124m\"\u001b[39m],dat[\u001b[38;5;124m\"\u001b[39m\u001b[38;5;124mprice\u001b[39m\u001b[38;5;124m\"\u001b[39m])\n",
      "\u001b[1;31mNameError\u001b[0m: name 'plt' is not defined"
     ]
    }
   ],
   "source": [
    "plt.scatter(dat[\"km\"],dat[\"price\"])"
   ]
  },
  {
   "cell_type": "code",
   "execution_count": null,
   "id": "6c8b34d0-31ba-46db-992a-0857d682e5bc",
   "metadata": {},
   "outputs": [],
   "source": [
    "plt.scatter(data[\"age_in_days\"],data[\"price\"])"
   ]
  },
  {
   "cell_type": "code",
   "execution_count": null,
   "id": "621f1b70-dfac-4244-8e8f-2d2cb10810ae",
   "metadata": {},
   "outputs": [],
   "source": [
    "plt.boxplot(data[\"km\"])"
   ]
  },
  {
   "cell_type": "code",
   "execution_count": null,
   "id": "4ebb5162-f322-4d67-8331-cd0596dad87b",
   "metadata": {},
   "outputs": [],
   "source": [
    "data1=pd.get_dummies(data,dtype=\"int\")\n",
    "data1"
   ]
  },
  {
   "cell_type": "code",
   "execution_count": null,
   "id": "c298cbc6-54cf-4aad-a0c7-7c1b6318584b",
   "metadata": {},
   "outputs": [],
   "source": [
    "cor=data1.corr()\n",
    "cor"
   ]
  },
  {
   "cell_type": "code",
   "execution_count": null,
   "id": "280544dc-bec8-4775-ab90-d7389c6340c0",
   "metadata": {},
   "outputs": [],
   "source": [
    "import seaborn as sns\n",
    "sns.heatmap(cor,vmax=1,vmin=-1,annot=True,cmap='bwr',linewidths=0.5)"
   ]
  },
  {
   "cell_type": "code",
   "execution_count": null,
   "id": "cbddf2b5-5e40-44a6-9e87-e869b541adb0",
   "metadata": {},
   "outputs": [],
   "source": [
    "list(data1)\n"
   ]
  },
  {
   "cell_type": "code",
   "execution_count": null,
   "id": "10cb1e05-f82e-49ea-98a4-b244364ce47a",
   "metadata": {},
   "outputs": [],
   "source": [
    "data1=data1.drop(['id','lat','lan'].axis=1)\n",
    "data1"
   ]
  },
  {
   "cell_type": "code",
   "execution_count": null,
   "id": "bfeceda6-7669-4bb9-b666-42163955c896",
   "metadata": {},
   "outputs": [],
   "source": [
    "#model building\n",
    "Y=data1[\"price\"]\n",
    "X=data1.drop('price',axis=1)\n",
    "X\n",
    "\n",
    "Y\n"
   ]
  },
  {
   "cell_type": "code",
   "execution_count": 7,
   "id": "4e8332dc-8b12-4c0e-ab76-6dcbb8dcf887",
   "metadata": {},
   "outputs": [
    {
     "ename": "NameError",
     "evalue": "name 'X' is not defined",
     "output_type": "error",
     "traceback": [
      "\u001b[1;31m---------------------------------------------------------------------------\u001b[0m",
      "\u001b[1;31mNameError\u001b[0m                                 Traceback (most recent call last)",
      "Cell \u001b[1;32mIn[7], line 2\u001b[0m\n\u001b[0;32m      1\u001b[0m \u001b[38;5;28;01mfrom\u001b[39;00m\u001b[38;5;250m \u001b[39m\u001b[38;5;21;01msklearn\u001b[39;00m\u001b[38;5;21;01m.\u001b[39;00m\u001b[38;5;21;01mmodel_selection\u001b[39;00m\u001b[38;5;250m \u001b[39m\u001b[38;5;28;01mimport\u001b[39;00m train_test_split\n\u001b[1;32m----> 2\u001b[0m X_train,X_test,Y_train,Y_test \u001b[38;5;241m=\u001b[39m train_test_split(\u001b[43mX\u001b[49m,Y,test_size\u001b[38;5;241m=\u001b[39m\u001b[38;5;241m0.33\u001b[39m,random_state\u001b[38;5;241m=\u001b[39m\u001b[38;5;241m0\u001b[39m)\n",
      "\u001b[1;31mNameError\u001b[0m: name 'X' is not defined"
     ]
    }
   ],
   "source": [
    "from sklearn.model_selection import train_test_split\n",
    "X_train,X_test,Y_train,Y_test = train_test_split(X,Y,test_size=0.33,random_state=0)"
   ]
  },
  {
   "cell_type": "code",
   "execution_count": null,
   "id": "37d81a30-c669-4ae6-a9f4-6df4f534520e",
   "metadata": {},
   "outputs": [],
   "source": [
    "from sklearn.linear_model import LeaniarRegression\n",
    "reg=LinearRegression()\n",
    "reg.fit(X_train,Y_train)"
   ]
  },
  {
   "cell_type": "code",
   "execution_count": null,
   "id": "dbdc16a0-cee2-459b-a377-e39bda2fa9a4",
   "metadata": {},
   "outputs": [],
   "source": [
    "ypred=reg.predict(X_test)\n",
    "ypred"
   ]
  },
  {
   "cell_type": "code",
   "execution_count": null,
   "id": "e8475296-ca84-43f8-bf94-55528147832a",
   "metadata": {},
   "outputs": [],
   "source": [
    "from sklearn.metrics import r2_score\n",
    "r2_score(Y_test,ypred)"
   ]
  },
  {
   "cell_type": "code",
   "execution_count": null,
   "id": "595e8f38-1e81-493a-8e14-1b64d824014a",
   "metadata": {},
   "outputs": [],
   "source": [
    "list(X_test)"
   ]
  },
  {
   "cell_type": "code",
   "execution_count": null,
   "id": "a8aa0c37-754d-4400-9a7d-7d63e9ce5c72",
   "metadata": {},
   "outputs": [],
   "source": [
    "new=[[51,3000,65000,1,1,0,0]]\n",
    "reg.predict(new)"
   ]
  },
  {
   "cell_type": "code",
   "execution_count": null,
   "id": "5b1260b0-21eb-46f4-8536-0ff141e04da2",
   "metadata": {},
   "outputs": [],
   "source": [
    "results=pd,DataFrame({'actual':Y_test,'predicted':ypred})\n",
    "results=results.reset_index()\n",
    "results['ID']=results.index\n",
    "results"
   ]
  },
  {
   "cell_type": "code",
   "execution_count": null,
   "id": "be1344f4-39b3-483d-84eb-857feae7c8fe",
   "metadata": {},
   "outputs": [],
   "source": [
    "sns.lineplot(x=results['Id'],y=results['actual'])\n",
    "sns.lineplot(x=results['Id'],y=results['predicted'])\n"
   ]
  }
 ],
 "metadata": {
  "kernelspec": {
   "display_name": "Python 3 (ipykernel)",
   "language": "python",
   "name": "python3"
  },
  "language_info": {
   "codemirror_mode": {
    "name": "ipython",
    "version": 3
   },
   "file_extension": ".py",
   "mimetype": "text/x-python",
   "name": "python",
   "nbconvert_exporter": "python",
   "pygments_lexer": "ipython3",
   "version": "3.10.0"
  }
 },
 "nbformat": 4,
 "nbformat_minor": 5
}

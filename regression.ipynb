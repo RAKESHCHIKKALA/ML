{
 "cells": [
  {
   "cell_type": "code",
   "execution_count": 34,
   "id": "975939d6-fdc3-4ab8-a887-463556600fe1",
   "metadata": {},
   "outputs": [
    {
     "name": "stdout",
     "output_type": "stream",
     "text": [
      "Requirement already satisfied: seaborn in c:\\users\\rakes\\appdata\\local\\programs\\python\\python310\\lib\\site-packages (0.13.2)\n",
      "Requirement already satisfied: matplotlib!=3.6.1,>=3.4 in c:\\users\\rakes\\appdata\\local\\programs\\python\\python310\\lib\\site-packages (from seaborn) (3.10.0)\n",
      "Requirement already satisfied: pandas>=1.2 in c:\\users\\rakes\\appdata\\local\\programs\\python\\python310\\lib\\site-packages (from seaborn) (2.2.3)\n",
      "Requirement already satisfied: numpy!=1.24.0,>=1.20 in c:\\users\\rakes\\appdata\\local\\programs\\python\\python310\\lib\\site-packages (from seaborn) (2.2.3)\n",
      "Requirement already satisfied: contourpy>=1.0.1 in c:\\users\\rakes\\appdata\\local\\programs\\python\\python310\\lib\\site-packages (from matplotlib!=3.6.1,>=3.4->seaborn) (1.3.1)\n",
      "Requirement already satisfied: packaging>=20.0 in c:\\users\\rakes\\appdata\\local\\programs\\python\\python310\\lib\\site-packages (from matplotlib!=3.6.1,>=3.4->seaborn) (24.2)\n",
      "Requirement already satisfied: pyparsing>=2.3.1 in c:\\users\\rakes\\appdata\\local\\programs\\python\\python310\\lib\\site-packages (from matplotlib!=3.6.1,>=3.4->seaborn) (3.2.1)\n",
      "Requirement already satisfied: python-dateutil>=2.7 in c:\\users\\rakes\\appdata\\local\\programs\\python\\python310\\lib\\site-packages (from matplotlib!=3.6.1,>=3.4->seaborn) (2.9.0.post0)\n",
      "Requirement already satisfied: cycler>=0.10 in c:\\users\\rakes\\appdata\\local\\programs\\python\\python310\\lib\\site-packages (from matplotlib!=3.6.1,>=3.4->seaborn) (0.12.1)\n",
      "Requirement already satisfied: pillow>=8 in c:\\users\\rakes\\appdata\\local\\programs\\python\\python310\\lib\\site-packages (from matplotlib!=3.6.1,>=3.4->seaborn) (11.1.0)\n",
      "Requirement already satisfied: fonttools>=4.22.0 in c:\\users\\rakes\\appdata\\local\\programs\\python\\python310\\lib\\site-packages (from matplotlib!=3.6.1,>=3.4->seaborn) (4.56.0)\n",
      "Requirement already satisfied: kiwisolver>=1.3.1 in c:\\users\\rakes\\appdata\\local\\programs\\python\\python310\\lib\\site-packages (from matplotlib!=3.6.1,>=3.4->seaborn) (1.4.8)\n",
      "Requirement already satisfied: tzdata>=2022.7 in c:\\users\\rakes\\appdata\\local\\programs\\python\\python310\\lib\\site-packages (from pandas>=1.2->seaborn) (2025.1)\n",
      "Requirement already satisfied: pytz>=2020.1 in c:\\users\\rakes\\appdata\\local\\programs\\python\\python310\\lib\\site-packages (from pandas>=1.2->seaborn) (2025.1)\n",
      "Requirement already satisfied: six>=1.5 in c:\\users\\rakes\\appdata\\local\\programs\\python\\python310\\lib\\site-packages (from python-dateutil>=2.7->matplotlib!=3.6.1,>=3.4->seaborn) (1.17.0)\n"
     ]
    },
    {
     "name": "stderr",
     "output_type": "stream",
     "text": [
      "WARNING: You are using pip version 21.2.3; however, version 25.0.1 is available.\n",
      "You should consider upgrading via the 'C:\\Users\\rakes\\AppData\\Local\\Programs\\Python\\Python310\\python.exe -m pip install --upgrade pip' command.\n"
     ]
    }
   ],
   "source": [
    "!pip install seaborn"
   ]
  },
  {
   "cell_type": "code",
   "execution_count": 35,
   "id": "76b16fdd-5ea0-456a-98ce-1e5c6a490c3e",
   "metadata": {},
   "outputs": [],
   "source": [
    "#regression\n",
    "import pandas as pd\n",
    "import numpy as np\n",
    "from sklearn.datasets import load_iris\n",
    "from sklearn.tree import DecisionTreeClassifier\n",
    "from sklearn.model_selection import train_test_split\n",
    "from sklearn.metrics import accuracy_score\n",
    "from sklearn import tree\n",
    "import matplotlib.pyplot as plt\n",
    "\n",
    "import seaborn as sns"
   ]
  },
  {
   "cell_type": "code",
   "execution_count": 4,
   "id": "92767ecd-c895-45fc-951f-2171dbcd3475",
   "metadata": {},
   "outputs": [
    {
     "name": "stdout",
     "output_type": "stream",
     "text": [
      "           id   Date  number of bedrooms  number of bathrooms  living area  \\\n",
      "0  6762810145  42491                   5                 2.50         3650   \n",
      "1  6762810635  42491                   4                 2.50         2920   \n",
      "2  6762810998  42491                   5                 2.75         2910   \n",
      "3  6762812605  42491                   4                 2.50         3310   \n",
      "4  6762812919  42491                   3                 2.00         2710   \n",
      "\n",
      "   lot area  number of floors  waterfront present  number of views  \\\n",
      "0      9050               2.0                   0                4   \n",
      "1      4000               1.5                   0                0   \n",
      "2      9480               1.5                   0                0   \n",
      "3     42998               2.0                   0                0   \n",
      "4      4500               1.5                   0                0   \n",
      "\n",
      "   condition of the house  ...  Built Year  Renovation Year  Postal Code  \\\n",
      "0                       5  ...        1921                0       122003   \n",
      "1                       5  ...        1909                0       122004   \n",
      "2                       3  ...        1939                0       122004   \n",
      "3                       3  ...        2001                0       122005   \n",
      "4                       4  ...        1929                0       122006   \n",
      "\n",
      "   Lattitude  Longitude  living_area_renov  lot_area_renov  \\\n",
      "0    52.8645   -114.557               2880            5400   \n",
      "1    52.8878   -114.470               2470            4000   \n",
      "2    52.8852   -114.468               2940            6600   \n",
      "3    52.9532   -114.321               3350           42847   \n",
      "4    52.9047   -114.485               2060            4500   \n",
      "\n",
      "   Number of schools nearby  Distance from the airport    Price  \n",
      "0                         2                         58  2380000  \n",
      "1                         2                         51  1400000  \n",
      "2                         1                         53  1200000  \n",
      "3                         3                         76   838000  \n",
      "4                         1                         51   805000  \n",
      "\n",
      "[5 rows x 23 columns]\n"
     ]
    }
   ],
   "source": [
    "file_path=r\"C:\\Users\\rakes\\Downloads\\House Price India.csv\\House Price India.csv\"\n",
    "df=pd.read_csv(file_path)\n",
    "print(df.head())"
   ]
  },
  {
   "cell_type": "code",
   "execution_count": null,
   "id": "04007678-b8a5-4ad9-8270-e76d7f0c7f16",
   "metadata": {},
   "outputs": [],
   "source": []
  },
  {
   "cell_type": "code",
   "execution_count": 20,
   "id": "421d6e3f-2334-487b-b368-c6491ade8de2",
   "metadata": {},
   "outputs": [
    {
     "name": "stdout",
     "output_type": "stream",
     "text": [
      "categorical columns Index([], dtype='object')\n"
     ]
    }
   ],
   "source": [
    "categorical_cols=df.select_dtypes(include=['object']).columns\n",
    "print(\"categorical columns\",categorical_cols)"
   ]
  },
  {
   "cell_type": "code",
   "execution_count": null,
   "id": "62eaa9ab-773b-4324-b349-95c6350e4fa7",
   "metadata": {},
   "outputs": [],
   "source": [
    "df_encoded=pd.get_dummies(df,columns"
   ]
  },
  {
   "cell_type": "code",
   "execution_count": 14,
   "id": "bf105f53-0e3f-4d5f-8c12-9d0939c0fd22",
   "metadata": {},
   "outputs": [
    {
     "name": "stdout",
     "output_type": "stream",
     "text": [
      "        Date  number of bedrooms  number of bathrooms  living area  lot area  \\\n",
      "6459   42587                   3                 2.50         2500     51836   \n",
      "10885  42659                   4                 1.75         1275     20000   \n",
      "1369   42512                   4                 1.50         1930     15531   \n",
      "740    42503                   2                 1.00          700      6000   \n",
      "3474   42544                   4                 2.25         2210      9371   \n",
      "...      ...                 ...                  ...          ...       ...   \n",
      "5191   42568                   4                 2.50         2500      8540   \n",
      "13418  42706                   3                 1.00         1340     10035   \n",
      "5390   42572                   3                 2.25         3270    168000   \n",
      "860    42505                   2                 2.50         1310      1500   \n",
      "7270   42600                   3                 1.75         1510      6597   \n",
      "\n",
      "       number of floors  waterfront present  number of views  \\\n",
      "6459                1.0                   0                0   \n",
      "10885               1.0                   0                0   \n",
      "1369                2.0                   0                0   \n",
      "740                 1.0                   0                0   \n",
      "3474                2.0                   0                0   \n",
      "...                 ...                 ...              ...   \n",
      "5191                2.0                   0                0   \n",
      "13418               1.0                   0                0   \n",
      "5390                2.0                   0                0   \n",
      "860                 2.0                   0                0   \n",
      "7270                1.0                   0                0   \n",
      "\n",
      "       condition of the house  grade of the house  ...  Built Year  \\\n",
      "6459                        3                   9  ...        2013   \n",
      "10885                       4                   6  ...        1991   \n",
      "1369                        3                   7  ...        1979   \n",
      "740                         4                   6  ...        1949   \n",
      "3474                        4                   8  ...        1968   \n",
      "...                       ...                 ...  ...         ...   \n",
      "5191                        3                   9  ...        1990   \n",
      "13418                       3                   7  ...        1959   \n",
      "5390                        4                  10  ...        1982   \n",
      "860                         3                   8  ...        2006   \n",
      "7270                        4                   6  ...        1939   \n",
      "\n",
      "       Renovation Year  Postal Code  Lattitude  Longitude  living_area_renov  \\\n",
      "6459                 0       122012    52.6994   -114.179               2270   \n",
      "10885                0       122069    52.6096   -114.680               1660   \n",
      "1369                 0       122040    52.5750   -114.486               1580   \n",
      "740                  0       122014    52.9815   -114.506                920   \n",
      "3474                 0       122066    52.5934   -114.469               2300   \n",
      "...                ...          ...        ...        ...                ...   \n",
      "5191                 0       122011    52.8059   -114.184               2560   \n",
      "13418                0       122063    52.7216   -114.444               2090   \n",
      "5390                 0       122053    52.7497   -114.381               3220   \n",
      "860                  0       122044    52.8412   -114.499               1320   \n",
      "7270                 0       122054    52.8238   -114.505               1460   \n",
      "\n",
      "       lot_area_renov  Number of schools nearby  Distance from the airport  \\\n",
      "6459            54450                         3                         51   \n",
      "10885           20000                         2                         76   \n",
      "1369             7800                         1                         80   \n",
      "740              6000                         1                         62   \n",
      "3474            11584                         3                         69   \n",
      "...               ...                       ...                        ...   \n",
      "5191             8475                         1                         61   \n",
      "13418           10035                         1                         50   \n",
      "5390             7963                         2                         52   \n",
      "860              1581                         1                         61   \n",
      "7270             5320                         1                         79   \n",
      "\n",
      "        Price  \n",
      "6459   650000  \n",
      "10885  309600  \n",
      "1369   275000  \n",
      "740    267800  \n",
      "3474   305000  \n",
      "...       ...  \n",
      "5191   639000  \n",
      "13418  227000  \n",
      "5390   750000  \n",
      "860    500000  \n",
      "7270   410000  \n",
      "\n",
      "[11696 rows x 22 columns]         Date  number of bedrooms  number of bathrooms  living area  lot area  \\\n",
      "3837   42547                   1                 1.50         1170      1456   \n",
      "4098   42552                   3                 2.50         1840      9900   \n",
      "357    42497                   2                 1.00         1540      6872   \n",
      "11768  42676                   5                 2.50         2090      8712   \n",
      "9751   42641                   3                 2.75         1670      1350   \n",
      "...      ...                 ...                  ...          ...       ...   \n",
      "7839   42607                   3                 2.25         1560     15340   \n",
      "2264   42529                   4                 2.50         2700      5100   \n",
      "12266  42685                   4                 3.25         3610      4000   \n",
      "8832   42624                   3                 1.50         1400      6527   \n",
      "4084   42552                   5                 2.25         2900     10300   \n",
      "\n",
      "       number of floors  waterfront present  number of views  \\\n",
      "3837                2.0                   0                0   \n",
      "4098                1.0                   0                0   \n",
      "357                 1.0                   0                0   \n",
      "11768               1.0                   0                0   \n",
      "9751                3.0                   0                0   \n",
      "...                 ...                 ...              ...   \n",
      "7839                2.0                   0                0   \n",
      "2264                1.0                   0                0   \n",
      "12266               2.0                   0                0   \n",
      "8832                1.0                   0                0   \n",
      "4084                1.0                   0                0   \n",
      "\n",
      "       condition of the house  grade of the house  ...  Built Year  \\\n",
      "3837                        3                   8  ...        2007   \n",
      "4098                        3                   9  ...        1978   \n",
      "357                         4                   7  ...        1946   \n",
      "11768                       3                   8  ...        1966   \n",
      "9751                        3                   9  ...        2014   \n",
      "...                       ...                 ...  ...         ...   \n",
      "7839                        3                   7  ...        1997   \n",
      "2264                        4                   8  ...        1968   \n",
      "12266                       3                   9  ...        2007   \n",
      "8832                        3                   7  ...        1957   \n",
      "4084                        3                   8  ...        1985   \n",
      "\n",
      "       Renovation Year  Postal Code  Lattitude  Longitude  living_area_renov  \\\n",
      "3837                 0       122064    52.7793   -114.562               1360   \n",
      "4098                 0       122030    52.8431   -114.341               2730   \n",
      "357                  0       122003    52.8754   -114.563               1420   \n",
      "11768                0       122029    52.8268   -114.317               2490   \n",
      "9751                 0       122009    52.8064   -114.598               1520   \n",
      "...                ...          ...        ...        ...                ...   \n",
      "7839                 0       122056    52.7289   -114.512               1560   \n",
      "2264                 0       122016    52.7631   -114.574               1880   \n",
      "12266                0       122032    52.8880   -114.586               1980   \n",
      "8832                 0       122031    52.6835   -114.548               1690   \n",
      "4084                 0       122027    52.7761   -114.341               2310   \n",
      "\n",
      "       lot_area_renov  Number of schools nearby  Distance from the airport  \\\n",
      "3837             1730                         2                         74   \n",
      "4098             9900                         3                         56   \n",
      "357              5538                         3                         72   \n",
      "11768            8712                         1                         69   \n",
      "9751             4800                         3                         59   \n",
      "...               ...                       ...                        ...   \n",
      "7839             8260                         3                         59   \n",
      "2264             5100                         1                         80   \n",
      "12266            4000                         3                         71   \n",
      "8832             7597                         1                         56   \n",
      "4084            10300                         1                         57   \n",
      "\n",
      "         Price  \n",
      "3837    235000  \n",
      "4098    552000  \n",
      "357     615000  \n",
      "11768   555000  \n",
      "9751    649950  \n",
      "...        ...  \n",
      "7839    250000  \n",
      "2264    550000  \n",
      "12266  1010000  \n",
      "8832    265000  \n",
      "4084    675000  \n",
      "\n",
      "[2924 rows x 22 columns] 6459     6762815260\n",
      "10885    6762826789\n",
      "1369     6762828169\n",
      "740      6762828552\n",
      "3474     6762826897\n",
      "            ...    \n",
      "5191     6762815522\n",
      "13418    6762830095\n",
      "5390     6762813616\n",
      "860      6762819076\n",
      "7270     6762822487\n",
      "Name: id, Length: 11696, dtype: int64 3837     6762829809\n",
      "4098     6762817547\n",
      "357      6762815988\n",
      "11768    6762817477\n",
      "9751     6762815346\n",
      "            ...    \n",
      "7839     6762829236\n",
      "2264     6762817585\n",
      "12266    6762811469\n",
      "8832     6762828643\n",
      "4084     6762814804\n",
      "Name: id, Length: 2924, dtype: int64\n"
     ]
    }
   ],
   "source": [
    "X=df.iloc[:,1:]\n",
    "Y=df.iloc[:,0]\n",
    "X_train,X_test,Y_train,Y_test=train_test_split(X,Y,test_size=0.2,random_state=42)\n",
    "print(X_train,X_test,Y_train,Y_test)"
   ]
  },
  {
   "cell_type": "code",
   "execution_count": 17,
   "id": "5b83431e-800b-4fc1-b341-c522fa8ef84e",
   "metadata": {},
   "outputs": [
    {
     "data": {
      "text/plain": [
       "Index(['id', 'Date', 'number of bedrooms', 'number of bathrooms',\n",
       "       'living area', 'lot area', 'number of floors', 'waterfront present',\n",
       "       'number of views', 'condition of the house', 'grade of the house',\n",
       "       'Area of the house(excluding basement)', 'Area of the basement',\n",
       "       'Built Year', 'Renovation Year', 'Postal Code', 'Lattitude',\n",
       "       'Longitude', 'living_area_renov', 'lot_area_renov',\n",
       "       'Number of schools nearby', 'Distance from the airport', 'Price'],\n",
       "      dtype='object')"
      ]
     },
     "execution_count": 17,
     "metadata": {},
     "output_type": "execute_result"
    }
   ],
   "source": [
    "df.columns"
   ]
  },
  {
   "cell_type": "code",
   "execution_count": 18,
   "id": "7ee7c474-78c4-4c97-a6e2-ff98e040640a",
   "metadata": {},
   "outputs": [
    {
     "name": "stdout",
     "output_type": "stream",
     "text": [
      "[6.76283008e+09 6.76281736e+09 6.76281583e+09 ... 6.76281119e+09\n",
      " 6.76282886e+09 6.76281455e+09]\n"
     ]
    }
   ],
   "source": [
    "dt_regressor=DecisionTreeRegressor(max_depth=5,random_state=42)\n",
    "dt_regressor.fit(X_train,Y_train)\n",
    "Y_pred=dt_regressor.predict(X_test)\n",
    "print(Y_pred)"
   ]
  },
  {
   "cell_type": "code",
   "execution_count": 22,
   "id": "baf1eb0d-eb08-4507-84b8-ccf195c0eca4",
   "metadata": {},
   "outputs": [
    {
     "name": "stdout",
     "output_type": "stream",
     "text": [
      "mean square error 42513.99504675712\n"
     ]
    }
   ],
   "source": [
    "#evaluate\n",
    "mse=mean_squared_error(Y_test,Y_pred)\n",
    "print(\"mean square error\",mse)"
   ]
  },
  {
   "cell_type": "code",
   "execution_count": 26,
   "id": "b15985ef-5f34-443b-bf15-8fcfbef2ad3e",
   "metadata": {},
   "outputs": [
    {
     "data": {
      "image/png": "[encoded data removed]",
      "text/plain": [
       "<Figure size 900x800 with 1 Axes>"
      ]
     },
     "metadata": {},
     "output_type": "display_data"
    }
   ],
   "source": [
    "plt.figure(figsize=(9,8))\n",
    "tree.plot_tree(dt_regressor,filled=True,feature_names=X.columns)\n",
    "plt.show()"
   ]
  },
  {
   "cell_type": "code",
   "execution_count": 36,
   "id": "500c9734-24dd-4713-8720-415fc257a987",
   "metadata": {},
   "outputs": [
    {
     "name": "stdout",
     "output_type": "stream",
     "text": [
      "first 1o prices 0    5\n",
      "1    4\n",
      "2    5\n",
      "3    4\n",
      "4    3\n",
      "5    3\n",
      "6    5\n",
      "7    3\n",
      "8    3\n",
      "9    4\n",
      "Name: number of bedrooms, dtype: int64\n",
      "count    14620.000000\n",
      "mean         3.379343\n",
      "std          0.938719\n",
      "min          1.000000\n",
      "25%          3.000000\n",
      "50%          3.000000\n",
      "75%          4.000000\n",
      "max         33.000000\n",
      "Name: number of bedrooms, dtype: float64\n"
     ]
    },
    {
     "ename": "AttributeError",
     "evalue": "module 'seaborn' has no attribute 'hisplot'",
     "output_type": "error",
     "traceback": [
      "\u001b[1;31m---------------------------------------------------------------------------\u001b[0m",
      "\u001b[1;31mAttributeError\u001b[0m                            Traceback (most recent call last)",
      "Cell \u001b[1;32mIn[36], line 4\u001b[0m\n\u001b[0;32m      2\u001b[0m \u001b[38;5;28mprint\u001b[39m(df[\u001b[38;5;124m\"\u001b[39m\u001b[38;5;124mnumber of bedrooms\u001b[39m\u001b[38;5;124m\"\u001b[39m]\u001b[38;5;241m.\u001b[39mdescribe())\n\u001b[0;32m      3\u001b[0m plt\u001b[38;5;241m.\u001b[39mfigure(figsize\u001b[38;5;241m=\u001b[39m(\u001b[38;5;241m10\u001b[39m,\u001b[38;5;241m6\u001b[39m))\n\u001b[1;32m----> 4\u001b[0m \u001b[43msns\u001b[49m\u001b[38;5;241;43m.\u001b[39;49m\u001b[43mhisplot\u001b[49m(df[\u001b[38;5;124m\"\u001b[39m\u001b[38;5;124mnumber of bedrooms\u001b[39m\u001b[38;5;124m\"\u001b[39m],bins\u001b[38;5;241m=\u001b[39m\u001b[38;5;241m30\u001b[39m,kde\u001b[38;5;241m=\u001b[39m\u001b[38;5;28;01mTrue\u001b[39;00m,color\u001b[38;5;241m=\u001b[39m\u001b[38;5;124m\"\u001b[39m\u001b[38;5;124mblue\u001b[39m\u001b[38;5;124m\"\u001b[39m)\n\u001b[0;32m      5\u001b[0m plt\u001b[38;5;241m.\u001b[39mxlabel(\u001b[38;5;124m\"\u001b[39m\u001b[38;5;124mprice\u001b[39m\u001b[38;5;124m\"\u001b[39m)\n\u001b[0;32m      6\u001b[0m plt\u001b[38;5;241m.\u001b[39mylabel(\u001b[38;5;124m\"\u001b[39m\u001b[38;5;124mfrequency\u001b[39m\u001b[38;5;124m\"\u001b[39m)\n",
      "\u001b[1;31mAttributeError\u001b[0m: module 'seaborn' has no attribute 'hisplot'"
     ]
    },
    {
     "data": {
      "text/plain": [
       "<Figure size 1000x600 with 0 Axes>"
      ]
     },
     "metadata": {},
     "output_type": "display_data"
    }
   ],
   "source": [
    "print(\"first 1o prices\",df[\"number of bedrooms\"].head(10))\n",
    "print(df[\"number of bedrooms\"].describe())\n",
    "plt.figure(figsize=(10,6))\n",
    "sns.hisplot(df[\"number of bedrooms\"],bins=30,kde=True,color=\"blue\")\n",
    "plt.xlabel(\"price\")\n",
    "plt.ylabel(\"frequency\")\n",
    "plt.titlt(\"distribiion of houses prices\")\n",
    "plt.show()"
   ]
  },
  {
   "cell_type": "code",
   "execution_count": 37,
   "id": "ad2a61fc-1de7-4646-ac9b-6dd8e485a059",
   "metadata": {},
   "outputs": [
    {
     "name": "stdout",
     "output_type": "stream",
     "text": [
      "first 10 pridicted  prices [6.76283008e+09 6.76281736e+09 6.76281583e+09 6.76281736e+09\n",
      " 6.76281518e+09 6.76282886e+09 6.76281185e+09 6.76281807e+09\n",
      " 6.76281119e+09 6.76281736e+09]\n"
     ]
    },
    {
     "ename": "AttributeError",
     "evalue": "module 'seaborn' has no attribute 'hisplot'",
     "output_type": "error",
     "traceback": [
      "\u001b[1;31m---------------------------------------------------------------------------\u001b[0m",
      "\u001b[1;31mAttributeError\u001b[0m                            Traceback (most recent call last)",
      "Cell \u001b[1;32mIn[37], line 4\u001b[0m\n\u001b[0;32m      2\u001b[0m predicted_prices\u001b[38;5;241m=\u001b[39mpd\u001b[38;5;241m.\u001b[39mDataFrame(Y_pred)\n\u001b[0;32m      3\u001b[0m plt\u001b[38;5;241m.\u001b[39mfigure(figsize\u001b[38;5;241m=\u001b[39m(\u001b[38;5;241m10\u001b[39m,\u001b[38;5;241m6\u001b[39m))\n\u001b[1;32m----> 4\u001b[0m \u001b[43msns\u001b[49m\u001b[38;5;241;43m.\u001b[39;49m\u001b[43mhisplot\u001b[49m(df[\u001b[38;5;124m\"\u001b[39m\u001b[38;5;124mnumber of bedrooms\u001b[39m\u001b[38;5;124m\"\u001b[39m],bins\u001b[38;5;241m=\u001b[39m\u001b[38;5;241m30\u001b[39m,kde\u001b[38;5;241m=\u001b[39m\u001b[38;5;28;01mTrue\u001b[39;00m,color\u001b[38;5;241m=\u001b[39m\u001b[38;5;124m\"\u001b[39m\u001b[38;5;124mblue\u001b[39m\u001b[38;5;124m\"\u001b[39m)\n\u001b[0;32m      5\u001b[0m plt\u001b[38;5;241m.\u001b[39mxlabel(\u001b[38;5;124m\"\u001b[39m\u001b[38;5;124mprice\u001b[39m\u001b[38;5;124m\"\u001b[39m)\n\u001b[0;32m      6\u001b[0m plt\u001b[38;5;241m.\u001b[39mylabel(\u001b[38;5;124m\"\u001b[39m\u001b[38;5;124mfrequency\u001b[39m\u001b[38;5;124m\"\u001b[39m)\n",
      "\u001b[1;31mAttributeError\u001b[0m: module 'seaborn' has no attribute 'hisplot'"
     ]
    },
    {
     "data": {
      "text/plain": [
       "<Figure size 1000x600 with 0 Axes>"
      ]
     },
     "metadata": {},
     "output_type": "display_data"
    }
   ],
   "source": [
    "print(\"first 10 pridicted  prices\",Y_pred[:10])\n",
    "predicted_prices=pd.DataFrame(Y_pred)\n",
    "plt.figure(figsize=(10,6))\n",
    "sns.hisplot(df[\"number of bedrooms\"],bins=30,kde=True,color=\"blue\")\n",
    "plt.xlabel(\"price\")\n",
    "plt.ylabel(\"frequency\")\n",
    "plt.titlt(\"distribiion of houses prices\")\n",
    "plt.show()"
   ]
  },
  {
   "cell_type": "code",
   "execution_count": null,
   "id": "eab7ff6e-8039-4efd-8f2b-c52c1d250bb6",
   "metadata": {},
   "outputs": [],
   "source": []
  }
 ],
 "metadata": {
  "kernelspec": {
   "display_name": "Python 3 (ipykernel)",
   "language": "python",
   "name": "python3"
  },
  "language_info": {
   "codemirror_mode": {
    "name": "ipython",
    "version": 3
   },
   "file_extension": ".py",
   "mimetype": "text/x-python",
   "name": "python",
   "nbconvert_exporter": "python",
   "pygments_lexer": "ipython3",
   "version": "3.10.0"
  }
 },
 "nbformat": 4,
 "nbformat_minor": 5
}
